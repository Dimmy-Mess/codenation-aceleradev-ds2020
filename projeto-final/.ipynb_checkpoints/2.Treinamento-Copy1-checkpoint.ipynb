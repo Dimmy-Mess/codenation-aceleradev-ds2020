{
 "cells": [
  {
   "cell_type": "code",
   "execution_count": 1,
   "metadata": {},
   "outputs": [],
   "source": [
    "%matplotlib inline\n",
    "import pickle\n",
    "import time\n",
    "import numpy as np\n",
    "import pandas as pd\n",
    "import seaborn as sns\n",
    "from sklearn.neighbors import NearestNeighbors\n",
    "from sklearn.cluster import MiniBatchKMeans\n",
    "from sklearn.model_selection import train_test_split\n",
    "import matplotlib.pyplot as plt"
   ]
  },
  {
   "cell_type": "markdown",
   "metadata": {},
   "source": [
    "## 1.Treinamento"
   ]
  },
  {
   "cell_type": "markdown",
   "metadata": {},
   "source": [
    "### 1.0 Funções de Teste"
   ]
  },
  {
   "cell_type": "code",
   "execution_count": 5,
   "metadata": {},
   "outputs": [],
   "source": [
    "def data_sep(portfolio, size = 0.3):\n",
    "    portfolio_train, portfolio_test = train_test_split(portfolio, test_size=size, random_state=69420)\n",
    "    return portfolio_train, portfolio_test"
   ]
  },
  {
   "cell_type": "code",
   "execution_count": 6,
   "metadata": {},
   "outputs": [],
   "source": [
    "def check(recommend,test):\n",
    "    return test.isin(recommend).sum()/test.shape[0]"
   ]
  },
  {
   "cell_type": "markdown",
   "metadata": {},
   "source": [
    "### 1.1 MiniBatch KMeans"
   ]
  },
  {
   "cell_type": "code",
   "execution_count": 7,
   "metadata": {},
   "outputs": [],
   "source": [
    "df = pd.read_csv('1.pre-processamento/df_preprocessed.csv')\n",
    "df_p1 = pd.read_csv('1.pre-processamento/portfolio1_preprocessed.csv')\n",
    "df_p2 = pd.read_csv('1.pre-processamento/portfolio2_preprocessed.csv')\n",
    "df_p3 = pd.read_csv('1.pre-processamento/portfolio3_preprocessed.csv')"
   ]
  },
  {
   "cell_type": "code",
   "execution_count": 8,
   "metadata": {},
   "outputs": [],
   "source": [
    "with open(\"1.pre-processamento/pca.pickle\",'rb') as f:\n",
    "    pca_ft = pickle.load(f)"
   ]
  },
  {
   "cell_type": "code",
   "execution_count": 9,
   "metadata": {},
   "outputs": [
    {
     "name": "stdout",
     "output_type": "stream",
     "text": [
      "Tempo de treino: 42.299774169921875\n"
     ]
    }
   ],
   "source": [
    "start = time.time()\n",
    "kmeans= MiniBatchKMeans(n_clusters =500, random_state=69420, batch_size = 50000).fit(pca_ft)\n",
    "end = time.time()\n",
    "print(f'Tempo de treino: {end - start}')"
   ]
  },
  {
   "cell_type": "code",
   "execution_count": 10,
   "metadata": {},
   "outputs": [],
   "source": [
    "df['kmeans'] = kmeans.labels_"
   ]
  },
  {
   "cell_type": "markdown",
   "metadata": {},
   "source": [
    "Salvando os resultados do treino:"
   ]
  },
  {
   "cell_type": "code",
   "execution_count": 11,
   "metadata": {},
   "outputs": [],
   "source": [
    "with open('2.treinamento/df_kmeans.pickle','wb') as f:\n",
    "    pickle.dump(df, f)\n",
    "\n",
    "with open('2.treinamento/kmeans.pickle','wb') as f:\n",
    "    pickle.dump(kmeans, f)"
   ]
  },
  {
   "cell_type": "markdown",
   "metadata": {},
   "source": [
    "### 1.2 Nearest Neighbors"
   ]
  },
  {
   "cell_type": "code",
   "execution_count": 49,
   "metadata": {},
   "outputs": [],
   "source": [
    "df = pd.read_csv('1.pre-processamento/df_preprocessed.csv')\n",
    "df_p1 = pd.read_csv('1.pre-processamento/portfolio1_preprocessed.csv')\n",
    "df_p2 = pd.read_csv('1.pre-processamento/portfolio2_preprocessed.csv')\n",
    "df_p3 = pd.read_csv('1.pre-processamento/portfolio3_preprocessed.csv')"
   ]
  },
  {
   "cell_type": "code",
   "execution_count": 50,
   "metadata": {},
   "outputs": [],
   "source": [
    "df.set_index('id',inplace=True)\n",
    "df_p1.set_index('id',inplace=True)\n",
    "df_p2.set_index('id',inplace=True)\n",
    "df_p3.set_index('id',inplace=True)"
   ]
  },
  {
   "cell_type": "code",
   "execution_count": 57,
   "metadata": {},
   "outputs": [
    {
     "name": "stdout",
     "output_type": "stream",
     "text": [
      "Tempo de Treino: 0.03216290473937988\n"
     ]
    }
   ],
   "source": [
    "start = time.time()\n",
    "nn = NearestNeighbors(n_neighbors=8,metric='cosine')\n",
    "nn.fit(df)\n",
    "end =  time.time()\n",
    "print(f'Tempo de Treino: {end-start}')"
   ]
  },
  {
   "cell_type": "markdown",
   "metadata": {},
   "source": [
    "## 2) Avaliação"
   ]
  },
  {
   "cell_type": "markdown",
   "metadata": {},
   "source": [
    "###  2.1) MiniBatch KMeans"
   ]
  },
  {
   "cell_type": "code",
   "execution_count": 26,
   "metadata": {},
   "outputs": [],
   "source": [
    "with open('2.treinamento/df_kmeans.pickle','rb') as f:\n",
    "    df = pickle.load(f)\n",
    "\n",
    "\n",
    "\n",
    "df_p1 = pd.read_csv('1.pre-processamento/portfolio1_preprocessed.csv')\n",
    "df_p2 = pd.read_csv('1.pre-processamento/portfolio2_preprocessed.csv')\n",
    "df_p3 = pd.read_csv('1.pre-processamento/portfolio3_preprocessed.csv')"
   ]
  },
  {
   "cell_type": "code",
   "execution_count": 27,
   "metadata": {},
   "outputs": [],
   "source": [
    "def get_clusters(df,id_cluster):\n",
    "    result = []\n",
    "    for client in df.iterrows():\n",
    "        client_id = client[1]['id']\n",
    "        client_cluster = id_cluster[id_cluster['id'] == client_id]['kmeans'].values[0]\n",
    "        result.append({'cluster_id':client_cluster, 'id': client_id})\n",
    "    return result"
   ]
  },
  {
   "cell_type": "code",
   "execution_count": 28,
   "metadata": {},
   "outputs": [],
   "source": [
    "def kmeans_lead_generator(df,id_cluster):\n",
    "    clusters = get_clusters(df,id_cluster)\n",
    "    leads = pd.DataFrame(columns=['id'])\n",
    "    for cluster in clusters:\n",
    "        recommendation = id_cluster[cluster['cluster_id'] == id_cluster['kmeans']]['id']\n",
    "    return recommendation"
   ]
  },
  {
   "cell_type": "code",
   "execution_count": 34,
   "metadata": {},
   "outputs": [],
   "source": [
    "p1 = pd.DataFrame(df_p1['id'], columns=['id'])\n",
    "p2 = pd.DataFrame(df_p2['id'], columns=['id'])\n",
    "p3 = pd.DataFrame(df_p3['id'], columns=['id'])\n",
    "\n",
    "p1_train, p1_test = data_sep(p1)\n",
    "p2_train, p2_test = data_sep(p2)\n",
    "p3_train, p3_test = data_sep(p3)\n",
    "\n"
   ]
  },
  {
   "cell_type": "code",
   "execution_count": 35,
   "metadata": {},
   "outputs": [
    {
     "name": "stdout",
     "output_type": "stream",
     "text": [
      "Portfolio 1 - Tempo: 11.690115928649902 - Score: 0.005988023952095809\n",
      "Portfolio 2 - Tempo: 11.51410436630249 - Score: 0.0\n",
      "Portfolio 3 - Tempo: 5.361168622970581 - Score: 0.3875\n"
     ]
    }
   ],
   "source": [
    "start = time.time()\n",
    "kmeans_result1 = kmeans_lead_generator(p1_train,df)\n",
    "end = time.time()\n",
    "time1 = end-start\n",
    "score1 = check(kmeans_result1,p1_test['id'])\n",
    "\n",
    "\n",
    "\n",
    "start = time.time()\n",
    "kmeans_result2 = kmeans_lead_generator(p2_train,df)\n",
    "end = time.time()\n",
    "time2 = end-start\n",
    "score2 = check(kmeans_result2,p2_test['id'])\n",
    "\n",
    "\n",
    "start= time.time()\n",
    "kmeans_result3 = kmeans_lead_generator(p3_train,df)\n",
    "end = time.time()\n",
    "time3 = end-start\n",
    "score3 = check(kmeans_result3,p3_test['id'])\n",
    "\n",
    "\n",
    "print(f'Portfolio 1 - Tempo: {time1} - Score: {score1}')\n",
    "print(f'Portfolio 2 - Tempo: {time2} - Score: {score2}')\n",
    "print(f'Portfolio 3 - Tempo: {time3} - Score: {score3}')"
   ]
  },
  {
   "cell_type": "markdown",
   "metadata": {},
   "source": [
    "### 2.2 Nearest Neighbors"
   ]
  },
  {
   "cell_type": "code",
   "execution_count": 36,
   "metadata": {},
   "outputs": [],
   "source": [
    "df = pd.read_csv('1.pre-processamento/df_preprocessed.csv')\n",
    "df_p1 = pd.read_csv('1.pre-processamento/portfolio1_preprocessed.csv')\n",
    "df_p2 = pd.read_csv('1.pre-processamento/portfolio2_preprocessed.csv')\n",
    "df_p3 = pd.read_csv('1.pre-processamento/portfolio3_preprocessed.csv')"
   ]
  },
  {
   "cell_type": "code",
   "execution_count": 37,
   "metadata": {},
   "outputs": [],
   "source": [
    "df.set_index('id',inplace=True)\n",
    "df_p1.set_index('id',inplace=True)\n",
    "df_p2.set_index('id',inplace=True)\n",
    "df_p3.set_index('id',inplace=True)"
   ]
  },
  {
   "cell_type": "code",
   "execution_count": 61,
   "metadata": {},
   "outputs": [],
   "source": [
    "def neighbors_lead_generator(df_p):\n",
    "    \n",
    "    index_list = np.array([])\n",
    "    \n",
    "    for i in range(df_p.shape[0]):\n",
    "        k_distances,k_indexes = nn.kneighbors(df_p.iloc[[i]])\n",
    "        k_indexes = np.delete(k_indexes,[0])\n",
    "        k_distances = np.delete(k_distances,[0])\n",
    "        index_list=np.concatenate((index_list,k_indexes),axis=None)\n",
    "\n",
    "    neighbors = []\n",
    "    \n",
    "    for i in range(len(index_list)):\n",
    "        neighbors.append(df.iloc[int(index_list[i])].name)\n",
    "    \n",
    "    lead = pd.DataFrame(neighbors, columns=['id_result'])\n",
    "    lead.drop_duplicates(keep='first',inplace=True,ignore_index=True)\n",
    "    \n",
    "    return lead"
   ]
  },
  {
   "cell_type": "code",
   "execution_count": 59,
   "metadata": {},
   "outputs": [],
   "source": [
    "p1_train, p1_test = data_sep(df_p1)\n",
    "p2_train, p2_test = data_sep(df_p2)\n",
    "p3_train, p3_test = data_sep(df_p3)"
   ]
  },
  {
   "cell_type": "code",
   "execution_count": 60,
   "metadata": {},
   "outputs": [
    {
     "name": "stdout",
     "output_type": "stream",
     "text": [
      "(2709, 1)\n",
      "(2138, 1)\n",
      "(897, 1)\n",
      "Portfolio 1 - Tempo: 109.80540156364441 - Score: 0.011976047904191617\n",
      "Portfolio 2 - Tempo: 112.4558174610138 - Score: 0.45294117647058824\n",
      "Portfolio 3 - Tempo: 57.78557729721069 - Score: 0.5125\n"
     ]
    }
   ],
   "source": [
    "start = time.time()\n",
    "neighbors_result1 = neighbors_lead_generator(p1_train)\n",
    "end =  time.time()\n",
    "time1 = end-start\n",
    "score1 = check(neighbors_result1['id_result'],p1_test.index)\n",
    "\n",
    "start = time.time()\n",
    "neighbors_result2 = neighbors_lead_generator(p2_train)\n",
    "end =  time.time()\n",
    "time2 = end-start\n",
    "score2 = check(neighbors_result2['id_result'],p2_test.index)\n",
    "\n",
    "start = time.time()\n",
    "neighbors_result3 = neighbors_lead_generator(p3_train)\n",
    "end =  time.time()\n",
    "time3 = end-start\n",
    "score3 = check(neighbors_result3['id_result'],p3_test.index)\n",
    "\n",
    "print(f'Portfolio 1 - Tempo: {time1} - Score: {score1}')\n",
    "print(f'Portfolio 2 - Tempo: {time2} - Score: {score2}')\n",
    "print(f'Portfolio 3 - Tempo: {time3} - Score: {score3}')"
   ]
  },
  {
   "cell_type": "markdown",
   "metadata": {},
   "source": [
    "Bem mais eficiente que o Minibatch KMeans!!!!!"
   ]
  },
  {
   "cell_type": "markdown",
   "metadata": {},
   "source": [
    "'''\n",
    "Teste do Streamlit\n",
    "'''"
   ]
  },
  {
   "cell_type": "code",
   "execution_count": 2,
   "metadata": {},
   "outputs": [
    {
     "name": "stdout",
     "output_type": "stream",
     "text": [
      "[NbConvertApp] WARNING | pattern '2.Treinamento-copy1.ipynb' matched no files\n",
      "This application is used to convert notebook files (*.ipynb) to various other\n",
      "formats.\n",
      "\n",
      "WARNING: THE COMMANDLINE INTERFACE MAY CHANGE IN FUTURE RELEASES.\n",
      "\n",
      "Options\n",
      "-------\n",
      "\n",
      "Arguments that take values are actually convenience aliases to full\n",
      "Configurables, whose aliases are listed on the help line. For more information\n",
      "on full configurables, see '--help-all'.\n",
      "\n",
      "--debug\n",
      "    set log level to logging.DEBUG (maximize logging output)\n",
      "--generate-config\n",
      "    generate default config file\n",
      "-y\n",
      "    Answer yes to any questions instead of prompting.\n",
      "--execute\n",
      "    Execute the notebook prior to export.\n",
      "--allow-errors\n",
      "    Continue notebook execution even if one of the cells throws an error and include the error message in the cell output (the default behaviour is to abort conversion). This flag is only relevant if '--execute' was specified, too.\n",
      "--stdin\n",
      "    read a single notebook file from stdin. Write the resulting notebook with default basename 'notebook.*'\n",
      "--stdout\n",
      "    Write notebook output to stdout instead of files.\n",
      "--inplace\n",
      "    Run nbconvert in place, overwriting the existing notebook (only \n",
      "    relevant when converting to notebook format)\n",
      "--clear-output\n",
      "    Clear output of current file and save in place, \n",
      "    overwriting the existing notebook.\n",
      "--no-prompt\n",
      "    Exclude input and output prompts from converted document.\n",
      "--no-input\n",
      "    Exclude input cells and output prompts from converted document. \n",
      "    This mode is ideal for generating code-free reports.\n",
      "--log-level=<Enum> (Application.log_level)\n",
      "    Default: 30\n",
      "    Choices: (0, 10, 20, 30, 40, 50, 'DEBUG', 'INFO', 'WARN', 'ERROR', 'CRITICAL')\n",
      "    Set the log level by value or name.\n",
      "--config=<Unicode> (JupyterApp.config_file)\n",
      "    Default: ''\n",
      "    Full path of a config file.\n",
      "--to=<Unicode> (NbConvertApp.export_format)\n",
      "    Default: 'html'\n",
      "    The export format to be used, either one of the built-in formats\n",
      "    ['asciidoc', 'custom', 'html', 'latex', 'markdown', 'notebook', 'pdf',\n",
      "    'python', 'rst', 'script', 'slides'] or a dotted object name that represents\n",
      "    the import path for an `Exporter` class\n",
      "--template=<Unicode> (TemplateExporter.template_file)\n",
      "    Default: ''\n",
      "    Name of the template file to use\n",
      "--writer=<DottedObjectName> (NbConvertApp.writer_class)\n",
      "    Default: 'FilesWriter'\n",
      "    Writer class used to write the  results of the conversion\n",
      "--post=<DottedOrNone> (NbConvertApp.postprocessor_class)\n",
      "    Default: ''\n",
      "    PostProcessor class used to write the results of the conversion\n",
      "--output=<Unicode> (NbConvertApp.output_base)\n",
      "    Default: ''\n",
      "    overwrite base name use for output files. can only be used when converting\n",
      "    one notebook at a time.\n",
      "--output-dir=<Unicode> (FilesWriter.build_directory)\n",
      "    Default: ''\n",
      "    Directory to write output(s) to. Defaults to output to the directory of each\n",
      "    notebook. To recover previous default behaviour (outputting to the current\n",
      "    working directory) use . as the flag value.\n",
      "--reveal-prefix=<Unicode> (SlidesExporter.reveal_url_prefix)\n",
      "    Default: ''\n",
      "    The URL prefix for reveal.js (version 3.x). This defaults to the reveal CDN,\n",
      "    but can be any url pointing to a copy  of reveal.js.\n",
      "    For speaker notes to work, this must be a relative path to a local  copy of\n",
      "    reveal.js: e.g., \"reveal.js\".\n",
      "    If a relative path is given, it must be a subdirectory of the current\n",
      "    directory (from which the server is run).\n",
      "    See the usage documentation\n",
      "    (https://nbconvert.readthedocs.io/en/latest/usage.html#reveal-js-html-\n",
      "    slideshow) for more details.\n",
      "--nbformat=<Enum> (NotebookExporter.nbformat_version)\n",
      "    Default: 4\n",
      "    Choices: [1, 2, 3, 4]\n",
      "    The nbformat version to write. Use this to downgrade notebooks.\n",
      "\n",
      "To see all available configurables, use `--help-all`\n",
      "\n",
      "Examples\n",
      "--------\n",
      "\n",
      "    The simplest way to use nbconvert is\n",
      "    \n",
      "    > jupyter nbconvert mynotebook.ipynb\n",
      "    \n",
      "    which will convert mynotebook.ipynb to the default format (probably HTML).\n",
      "    \n",
      "    You can specify the export format with `--to`.\n",
      "    Options include ['asciidoc', 'custom', 'html', 'latex', 'markdown', 'notebook', 'pdf', 'python', 'rst', 'script', 'slides'].\n",
      "    \n",
      "    > jupyter nbconvert --to latex mynotebook.ipynb\n",
      "    \n",
      "    Both HTML and LaTeX support multiple output templates. LaTeX includes\n",
      "    'base', 'article' and 'report'.  HTML includes 'basic' and 'full'. You\n",
      "    can specify the flavor of the format used.\n",
      "    \n",
      "    > jupyter nbconvert --to html --template basic mynotebook.ipynb\n",
      "    \n",
      "    You can also pipe the output to stdout, rather than a file\n",
      "    \n",
      "    > jupyter nbconvert mynotebook.ipynb --stdout\n",
      "    \n",
      "    PDF is generated via latex\n",
      "    \n",
      "    > jupyter nbconvert mynotebook.ipynb --to pdf\n",
      "    \n",
      "    You can get (and serve) a Reveal.js-powered slideshow\n",
      "    \n",
      "    > jupyter nbconvert myslides.ipynb --to slides --post serve\n",
      "    \n",
      "    Multiple notebooks can be given at the command line in a couple of \n",
      "    different ways:\n",
      "    \n",
      "    > jupyter nbconvert notebook*.ipynb\n",
      "    > jupyter nbconvert notebook1.ipynb notebook2.ipynb\n",
      "    \n",
      "    or you can specify the notebooks list in a config file, containing::\n",
      "    \n",
      "        c.NbConvertApp.notebooks = [\"my_notebook.ipynb\"]\n",
      "    \n",
      "    > jupyter nbconvert --config mycfg.py\n",
      "\n",
      "awk: cannot open 2.Treinamento-copy1.py (No such file or directory)\n",
      "/bin/sh: 1: streamlit: not found\n"
     ]
    }
   ],
   "source": [
    "!jupyter nbconvert   --to script 2.Treinamento-copy1.ipynb\n",
    "!awk '!/ipython/' 2.Treinamento-copy1.py >  temp.py && mv temp.py app.py && rm 2.Treinamento-copy1.py\n",
    "!streamlit run app.py"
   ]
  },
  {
   "cell_type": "code",
   "execution_count": null,
   "metadata": {},
   "outputs": [],
   "source": []
  }
 ],
 "metadata": {
  "kernelspec": {
   "display_name": "Python 3",
   "language": "python",
   "name": "python3"
  },
  "language_info": {
   "codemirror_mode": {
    "name": "ipython",
    "version": 3
   },
   "file_extension": ".py",
   "mimetype": "text/x-python",
   "name": "python",
   "nbconvert_exporter": "python",
   "pygments_lexer": "ipython3",
   "version": "3.7.6"
  }
 },
 "nbformat": 4,
 "nbformat_minor": 4
}
