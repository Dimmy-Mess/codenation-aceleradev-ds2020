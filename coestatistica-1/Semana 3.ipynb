{
 "cells": [
  {
   "cell_type": "markdown",
   "metadata": {},
   "source": [
    "## Desafio AceleraDEV Semana 3"
   ]
  },
  {
   "cell_type": "code",
   "execution_count": 48,
   "metadata": {},
   "outputs": [],
   "source": [
    "import json\n",
    "import pandas as pd\n",
    "import numpy as np\n",
    "import seaborn as sns\n",
    "import matplotlib.pyplot as plt"
   ]
  },
  {
   "cell_type": "code",
   "execution_count": 7,
   "metadata": {},
   "outputs": [
    {
     "data": {
      "text/html": [
       "<div>\n",
       "<style scoped>\n",
       "    .dataframe tbody tr th:only-of-type {\n",
       "        vertical-align: middle;\n",
       "    }\n",
       "\n",
       "    .dataframe tbody tr th {\n",
       "        vertical-align: top;\n",
       "    }\n",
       "\n",
       "    .dataframe thead th {\n",
       "        text-align: right;\n",
       "    }\n",
       "</style>\n",
       "<table border=\"1\" class=\"dataframe\">\n",
       "  <thead>\n",
       "    <tr style=\"text-align: right;\">\n",
       "      <th></th>\n",
       "      <th>colunas</th>\n",
       "      <th>tipos</th>\n",
       "      <th>NA#</th>\n",
       "      <th>NA%</th>\n",
       "    </tr>\n",
       "  </thead>\n",
       "  <tbody>\n",
       "    <tr>\n",
       "      <th>RowNumber</th>\n",
       "      <td>RowNumber</td>\n",
       "      <td>int64</td>\n",
       "      <td>0</td>\n",
       "      <td>0.0</td>\n",
       "    </tr>\n",
       "    <tr>\n",
       "      <th>id</th>\n",
       "      <td>id</td>\n",
       "      <td>object</td>\n",
       "      <td>0</td>\n",
       "      <td>0.0</td>\n",
       "    </tr>\n",
       "    <tr>\n",
       "      <th>sobrenome</th>\n",
       "      <td>sobrenome</td>\n",
       "      <td>object</td>\n",
       "      <td>0</td>\n",
       "      <td>0.0</td>\n",
       "    </tr>\n",
       "    <tr>\n",
       "      <th>pontuacao_credito</th>\n",
       "      <td>pontuacao_credito</td>\n",
       "      <td>int64</td>\n",
       "      <td>0</td>\n",
       "      <td>0.0</td>\n",
       "    </tr>\n",
       "    <tr>\n",
       "      <th>estado_residencia</th>\n",
       "      <td>estado_residencia</td>\n",
       "      <td>object</td>\n",
       "      <td>0</td>\n",
       "      <td>0.0</td>\n",
       "    </tr>\n",
       "    <tr>\n",
       "      <th>genero</th>\n",
       "      <td>genero</td>\n",
       "      <td>object</td>\n",
       "      <td>0</td>\n",
       "      <td>0.0</td>\n",
       "    </tr>\n",
       "    <tr>\n",
       "      <th>idade</th>\n",
       "      <td>idade</td>\n",
       "      <td>int64</td>\n",
       "      <td>0</td>\n",
       "      <td>0.0</td>\n",
       "    </tr>\n",
       "    <tr>\n",
       "      <th>nivel_estabilidade</th>\n",
       "      <td>nivel_estabilidade</td>\n",
       "      <td>int64</td>\n",
       "      <td>0</td>\n",
       "      <td>0.0</td>\n",
       "    </tr>\n",
       "    <tr>\n",
       "      <th>saldo_conta</th>\n",
       "      <td>saldo_conta</td>\n",
       "      <td>float64</td>\n",
       "      <td>0</td>\n",
       "      <td>0.0</td>\n",
       "    </tr>\n",
       "    <tr>\n",
       "      <th>numero_produtos</th>\n",
       "      <td>numero_produtos</td>\n",
       "      <td>int64</td>\n",
       "      <td>0</td>\n",
       "      <td>0.0</td>\n",
       "    </tr>\n",
       "    <tr>\n",
       "      <th>possui_cartao_de_credito</th>\n",
       "      <td>possui_cartao_de_credito</td>\n",
       "      <td>int64</td>\n",
       "      <td>0</td>\n",
       "      <td>0.0</td>\n",
       "    </tr>\n",
       "    <tr>\n",
       "      <th>membro_ativo</th>\n",
       "      <td>membro_ativo</td>\n",
       "      <td>int64</td>\n",
       "      <td>0</td>\n",
       "      <td>0.0</td>\n",
       "    </tr>\n",
       "  </tbody>\n",
       "</table>\n",
       "</div>"
      ],
      "text/plain": [
       "                                           colunas    tipos  NA#  NA%\n",
       "RowNumber                                RowNumber    int64    0  0.0\n",
       "id                                              id   object    0  0.0\n",
       "sobrenome                                sobrenome   object    0  0.0\n",
       "pontuacao_credito                pontuacao_credito    int64    0  0.0\n",
       "estado_residencia                estado_residencia   object    0  0.0\n",
       "genero                                      genero   object    0  0.0\n",
       "idade                                        idade    int64    0  0.0\n",
       "nivel_estabilidade              nivel_estabilidade    int64    0  0.0\n",
       "saldo_conta                            saldo_conta  float64    0  0.0\n",
       "numero_produtos                    numero_produtos    int64    0  0.0\n",
       "possui_cartao_de_credito  possui_cartao_de_credito    int64    0  0.0\n",
       "membro_ativo                          membro_ativo    int64    0  0.0"
      ]
     },
     "execution_count": 7,
     "metadata": {},
     "output_type": "execute_result"
    }
   ],
   "source": [
    "data = pd.read_csv('desafio1.csv')\n",
    "aux= pd.DataFrame({'colunas': data.columns,'tipos':data.dtypes, 'NA#': data.isna().sum(),'NA%':data.isna().sum()/data.shape[0]})\n",
    "aux"
   ]
  },
  {
   "cell_type": "code",
   "execution_count": 79,
   "metadata": {},
   "outputs": [
    {
     "data": {
      "text/plain": [
       "{'SC': {'moda': 850.0,\n",
       "  'mediana': 653.0,\n",
       "  'media': 649.5376527422563,\n",
       "  'desvio_padrao': 97.233492793433},\n",
       " 'RS': {'moda': 850.0,\n",
       "  'mediana': 650.0,\n",
       "  'media': 651.1051428571428,\n",
       "  'desvio_padrao': 95.13659841383574},\n",
       " 'PR': {'moda': 850.0,\n",
       "  'mediana': 650.0,\n",
       "  'media': 648.9612940496822,\n",
       "  'desvio_padrao': 98.60718591309758}}"
      ]
     },
     "execution_count": 79,
     "metadata": {},
     "output_type": "execute_result"
    }
   ],
   "source": [
    "filtro = ['estado_residencia', 'pontuacao_credito']\n",
    "df = data[filtro]\n",
    "df.rename(columns={'estado_residencia':'estado','pontuacao_credito':'ponto' },inplace=True)\n",
    "df['estado'].unique()\n",
    "\n",
    "final = dict()\n",
    "\n",
    "for i in df['estado'].unique():\n",
    "    r = df[df['estado']== i]['ponto']\n",
    "    moda = r.mode()\n",
    "    mediana = r.median()\n",
    "    media = r.mean()\n",
    "    std = r.std()\n",
    "    final[i] = {\"moda\":float(moda), \"mediana\":float(mediana), \"media\":float(media), \"desvio_padrao\": float(std)}\n",
    "final\n"
   ]
  },
  {
   "cell_type": "code",
   "execution_count": 67,
   "metadata": {},
   "outputs": [
    {
     "data": {
      "text/plain": [
       "{('estado', ''): {0: 'PR', 1: 'RS', 2: 'SC'},\n",
       " ('ponto', 'median'): {0: 650, 1: 650, 2: 653},\n",
       " ('ponto', 'mean'): {0: 648.9612940496822,\n",
       "  1: 651.1051428571428,\n",
       "  2: 649.5376527422563},\n",
       " ('ponto', 'std'): {0: 98.60718591309755,\n",
       "  1: 95.1365984138358,\n",
       "  2: 97.23349279343314},\n",
       " ('ponto', 'mode'): {0: 850, 1: 850, 2: 850}}"
      ]
     },
     "execution_count": 67,
     "metadata": {},
     "output_type": "execute_result"
    }
   ],
   "source": [
    "r = df.groupby('estado').aggregate({'ponto':['median','mean','std',pd.Series.mode]})\n",
    "r.reset_index()\n",
    "r = r.reset_index()"
   ]
  },
  {
   "cell_type": "code",
   "execution_count": 83,
   "metadata": {},
   "outputs": [],
   "source": [
    "with open('submission.json','w') as f:\n",
    "    json.dump(final,f)"
   ]
  },
  {
   "cell_type": "code",
   "execution_count": null,
   "metadata": {},
   "outputs": [],
   "source": []
  }
 ],
 "metadata": {
  "kernelspec": {
   "display_name": "Python 3",
   "language": "python",
   "name": "python3"
  },
  "language_info": {
   "codemirror_mode": {
    "name": "ipython",
    "version": 3
   },
   "file_extension": ".py",
   "mimetype": "text/x-python",
   "name": "python",
   "nbconvert_exporter": "python",
   "pygments_lexer": "ipython3",
   "version": "3.7.6"
  }
 },
 "nbformat": 4,
 "nbformat_minor": 2
}
